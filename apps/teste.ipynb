{
 "cells": [
  {
   "cell_type": "code",
   "execution_count": 8,
   "metadata": {},
   "outputs": [],
   "source": [
    "\n",
    "import pandas as pd\n",
    "\n",
    "ph = pd.read_csv('../datasets/ChEMBL/DrugBank/Beta-secretase 1_SIMS.csv')\n",
    "ph = ph['molecule_chembl_id']\n",
    "\n",
    "ph.to_csv('../datasets/ChEMBL/DrugBank/Beta-secretase 1_SIMS_VENN.csv', index=False)\n"
   ]
  }
 ],
 "metadata": {
  "kernelspec": {
   "display_name": "BioMolExplorer",
   "language": "python",
   "name": "python3"
  },
  "language_info": {
   "codemirror_mode": {
    "name": "ipython",
    "version": 3
   },
   "file_extension": ".py",
   "mimetype": "text/x-python",
   "name": "python",
   "nbconvert_exporter": "python",
   "pygments_lexer": "ipython3",
   "version": "3.12.3"
  }
 },
 "nbformat": 4,
 "nbformat_minor": 2
}
